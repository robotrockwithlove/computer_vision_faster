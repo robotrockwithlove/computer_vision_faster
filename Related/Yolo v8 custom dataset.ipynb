{
 "cells": [
  {
   "cell_type": "code",
   "execution_count": 1,
   "metadata": {
    "collapsed": true,
    "pycharm": {
     "name": "#%%\n"
    }
   },
   "outputs": [
    {
     "name": "stdout",
     "output_type": "stream",
     "text": [
      "Tue Apr 11 10:17:15 2023       \n",
      "+-----------------------------------------------------------------------------+\n",
      "| NVIDIA-SMI 528.02       Driver Version: 528.02       CUDA Version: 12.0     |\n",
      "|-------------------------------+----------------------+----------------------+\n",
      "| GPU  Name            TCC/WDDM | Bus-Id        Disp.A | Volatile Uncorr. ECC |\n",
      "| Fan  Temp  Perf  Pwr:Usage/Cap|         Memory-Usage | GPU-Util  Compute M. |\n",
      "|                               |                      |               MIG M. |\n",
      "|===============================+======================+======================|\n",
      "|   0  NVIDIA GeForce ... WDDM  | 00000000:01:00.0 Off |                  N/A |\n",
      "| N/A   51C    P0    16W /  60W |      0MiB /  4096MiB |      0%      Default |\n",
      "|                               |                      |                  N/A |\n",
      "+-------------------------------+----------------------+----------------------+\n",
      "                                                                               \n",
      "+-----------------------------------------------------------------------------+\n",
      "| Processes:                                                                  |\n",
      "|  GPU   GI   CI        PID   Type   Process name                  GPU Memory |\n",
      "|        ID   ID                                                   Usage      |\n",
      "|=============================================================================|\n",
      "|  No running processes found                                                 |\n",
      "+-----------------------------------------------------------------------------+\n"
     ]
    }
   ],
   "source": [
    "!nvidia-smi"
   ]
  },
  {
   "cell_type": "code",
   "execution_count": 2,
   "outputs": [],
   "source": [
    "import cv2 as cv"
   ],
   "metadata": {
    "collapsed": false,
    "pycharm": {
     "name": "#%%\n"
    }
   }
  },
  {
   "cell_type": "code",
   "execution_count": 3,
   "outputs": [
    {
     "name": "stdout",
     "output_type": "stream",
     "text": [
      "C:\\Users\\user\\PycharmProjects\\computer_vision_faster\\Related\n"
     ]
    }
   ],
   "source": [
    "import os\n",
    "HOME = os.getcwd()\n",
    "print(HOME)"
   ],
   "metadata": {
    "collapsed": false,
    "pycharm": {
     "name": "#%%\n"
    }
   }
  },
  {
   "cell_type": "code",
   "execution_count": 4,
   "outputs": [],
   "source": [
    "#!pip install ultralytics"
   ],
   "metadata": {
    "collapsed": false,
    "pycharm": {
     "name": "#%%\n"
    }
   }
  },
  {
   "cell_type": "code",
   "execution_count": 5,
   "outputs": [
    {
     "name": "stderr",
     "output_type": "stream",
     "text": [
      "Ultralytics YOLOv8.0.66  Python-3.10.8 torch-1.13.1+cu116 CUDA:0 (NVIDIA GeForce RTX 3050 Laptop GPU, 4096MiB)\n",
      "Setup complete  (12 CPUs, 15.7 GB RAM, 374.3/476.2 GB disk)\n"
     ]
    }
   ],
   "source": [
    "from IPython import display\n",
    "display.clear_output()\n",
    "\n",
    "import ultralytics\n",
    "ultralytics.checks()"
   ],
   "metadata": {
    "collapsed": false,
    "pycharm": {
     "name": "#%%\n"
    }
   }
  },
  {
   "cell_type": "code",
   "execution_count": 6,
   "outputs": [],
   "source": [
    "# Метод для установки из репозитория\n",
    "\n",
    "# Git clone method (for development)\n",
    "\n",
    "# %cd {HOME}\n",
    "# !git clone github.com/ultralytics/ultralytics\n",
    "# %cd {HOME}/ultralytics\n",
    "# !pip install -qe ultralytics\n",
    "\n",
    "# from IPython import display\n",
    "# display.clear_output()\n",
    "\n",
    "# import ultralytics\n",
    "# ultralytics.checks()"
   ],
   "metadata": {
    "collapsed": false,
    "pycharm": {
     "name": "#%%\n"
    }
   }
  },
  {
   "cell_type": "code",
   "execution_count": 7,
   "outputs": [],
   "source": [
    "from ultralytics import YOLO\n",
    "\n",
    "from IPython.display import display, Image"
   ],
   "metadata": {
    "collapsed": false,
    "pycharm": {
     "name": "#%%\n"
    }
   }
  },
  {
   "cell_type": "code",
   "execution_count": 8,
   "outputs": [],
   "source": [
    "model = YOLO('yolov8n.pt')"
   ],
   "metadata": {
    "collapsed": false,
    "pycharm": {
     "name": "#%%\n"
    }
   }
  },
  {
   "cell_type": "code",
   "execution_count": null,
   "outputs": [],
   "source": [
    "model.train()"
   ],
   "metadata": {
    "collapsed": false,
    "pycharm": {
     "name": "#%%\n"
    }
   }
  },
  {
   "cell_type": "code",
   "execution_count": 9,
   "outputs": [
    {
     "name": "stderr",
     "output_type": "stream",
     "text": [
      "\n",
      "0: 448x640 1 car, 1 cat, 15.0ms\n",
      "Speed: 1.0ms preprocess, 15.0ms inference, 5.0ms postprocess per image at shape (1, 3, 640, 640)\n",
      "Results saved to \u001B[1mruns\\detect\\predict5\u001B[0m\n",
      "1 label saved to runs\\detect\\predict5\\labels\n"
     ]
    }
   ],
   "source": [
    "im2 = cv.imread('000000000650.jpg')\n",
    "results = model.predict(source=im2, save=True, save_txt=True)"
   ],
   "metadata": {
    "collapsed": false,
    "pycharm": {
     "name": "#%%\n"
    }
   }
  },
  {
   "cell_type": "code",
   "execution_count": 10,
   "outputs": [
    {
     "data": {
      "text/plain": "[ultralytics.yolo.engine.results.Results object with attributes:\n \n _keys: ('boxes', 'masks', 'probs', 'keypoints')\n boxes: ultralytics.yolo.engine.results.Boxes object\n keypoints: None\n keys: ['boxes']\n masks: None\n names: {0: 'person', 1: 'bicycle', 2: 'car', 3: 'motorcycle', 4: 'airplane', 5: 'bus', 6: 'train', 7: 'truck', 8: 'boat', 9: 'traffic light', 10: 'fire hydrant', 11: 'stop sign', 12: 'parking meter', 13: 'bench', 14: 'bird', 15: 'cat', 16: 'dog', 17: 'horse', 18: 'sheep', 19: 'cow', 20: 'elephant', 21: 'bear', 22: 'zebra', 23: 'giraffe', 24: 'backpack', 25: 'umbrella', 26: 'handbag', 27: 'tie', 28: 'suitcase', 29: 'frisbee', 30: 'skis', 31: 'snowboard', 32: 'sports ball', 33: 'kite', 34: 'baseball bat', 35: 'baseball glove', 36: 'skateboard', 37: 'surfboard', 38: 'tennis racket', 39: 'bottle', 40: 'wine glass', 41: 'cup', 42: 'fork', 43: 'knife', 44: 'spoon', 45: 'bowl', 46: 'banana', 47: 'apple', 48: 'sandwich', 49: 'orange', 50: 'broccoli', 51: 'carrot', 52: 'hot dog', 53: 'pizza', 54: 'donut', 55: 'cake', 56: 'chair', 57: 'couch', 58: 'potted plant', 59: 'bed', 60: 'dining table', 61: 'toilet', 62: 'tv', 63: 'laptop', 64: 'mouse', 65: 'remote', 66: 'keyboard', 67: 'cell phone', 68: 'microwave', 69: 'oven', 70: 'toaster', 71: 'sink', 72: 'refrigerator', 73: 'book', 74: 'clock', 75: 'vase', 76: 'scissors', 77: 'teddy bear', 78: 'hair drier', 79: 'toothbrush'}\n orig_img: array([[[228, 250, 255],\n         [229, 251, 255],\n         [231, 252, 255],\n         ...,\n         [ 51,  80,  77],\n         [ 53,  82,  79],\n         [ 54,  83,  80]],\n \n        [[219, 242, 250],\n         [221, 244, 252],\n         [224, 246, 255],\n         ...,\n         [ 50,  79,  76],\n         [ 51,  80,  77],\n         [ 52,  81,  78]],\n \n        [[215, 241, 253],\n         [218, 244, 255],\n         [220, 246, 255],\n         ...,\n         [ 49,  78,  75],\n         [ 52,  79,  76],\n         [ 53,  80,  77]],\n \n        ...,\n \n        [[ 83,  61,  55],\n         [ 68,  49,  42],\n         [ 58,  39,  32],\n         ...,\n         [153, 143, 143],\n         [ 74,  63,  65],\n         [ 30,  20,  20]],\n \n        [[ 58,  44,  45],\n         [ 48,  36,  36],\n         [ 38,  26,  26],\n         ...,\n         [117, 106, 108],\n         [ 29,  18,  20],\n         [ 34,  26,  27]],\n \n        [[ 25,  18,  25],\n         [ 26,  19,  26],\n         [ 27,  21,  26],\n         ...,\n         [ 24,  15,  18],\n         [ 21,  12,  15],\n         [ 32,  25,  28]]], dtype=uint8)\n orig_shape: (427, 640)\n path: 'image0.jpg'\n probs: None\n speed: {'preprocess': 0.9992122650146484, 'inference': 15.001296997070312, 'postprocess': 4.99725341796875}]"
     },
     "execution_count": 10,
     "metadata": {},
     "output_type": "execute_result"
    }
   ],
   "source": [
    "results"
   ],
   "metadata": {
    "collapsed": false,
    "pycharm": {
     "name": "#%%\n"
    }
   }
  },
  {
   "cell_type": "code",
   "execution_count": 11,
   "outputs": [
    {
     "name": "stderr",
     "output_type": "stream",
     "text": [
      "Ultralytics YOLOv8.0.66  Python-3.10.8 torch-1.13.1+cu116 CPU\n",
      "\n",
      "\u001B[34m\u001B[1mPyTorch:\u001B[0m starting from yolov8n.pt with input shape (1, 3, 640, 640) BCHW and output shape(s) (1, 84, 8400) (6.2 MB)\n",
      "\n",
      "\u001B[34m\u001B[1mONNX:\u001B[0m starting export with onnx 1.13.1 opset 12...\n",
      "\u001B[34m\u001B[1mONNX:\u001B[0m export success  0.8s, saved as yolov8n.onnx (12.2 MB)\n",
      "\n",
      "Export complete (1.0s)\n",
      "Results saved to \u001B[1mC:\\Users\\user\\PycharmProjects\\computer_vision_faster\\Related\u001B[0m\n",
      "Predict:         yolo predict task=detect model=yolov8n.onnx imgsz=640 \n",
      "Validate:        yolo val task=detect model=yolov8n.onnx imgsz=640 data=coco.yaml \n",
      "Visualize:       https://netron.app\n"
     ]
    },
    {
     "data": {
      "text/plain": "'yolov8n.onnx'"
     },
     "execution_count": 11,
     "metadata": {},
     "output_type": "execute_result"
    }
   ],
   "source": [
    "model.export(format='onnx', opset=12)"
   ],
   "metadata": {
    "collapsed": false,
    "pycharm": {
     "name": "#%%\n"
    }
   }
  },
  {
   "cell_type": "code",
   "execution_count": 1,
   "outputs": [],
   "source": [
    "from onnxruntime import InferenceSession"
   ],
   "metadata": {
    "collapsed": false,
    "pycharm": {
     "name": "#%%\n"
    }
   }
  },
  {
   "cell_type": "code",
   "execution_count": 2,
   "outputs": [],
   "source": [
    "providers = ['CPUExecutionProvider']\n",
    "session = InferenceSession('yolov8n.onnx', providers=providers)\n"
   ],
   "metadata": {
    "collapsed": false,
    "pycharm": {
     "name": "#%%\n"
    }
   }
  },
  {
   "cell_type": "code",
   "execution_count": 3,
   "outputs": [
    {
     "name": "stdout",
     "output_type": "stream",
     "text": [
      "(427, 640, 3)\n",
      "[[[255. 250. 228.]\n",
      "  [255. 251. 229.]\n",
      "  [255. 252. 231.]\n",
      "  ...\n",
      "  [ 77.  80.  51.]\n",
      "  [ 79.  82.  53.]\n",
      "  [ 80.  83.  54.]]\n",
      "\n",
      " [[250. 242. 219.]\n",
      "  [252. 244. 221.]\n",
      "  [255. 246. 224.]\n",
      "  ...\n",
      "  [ 76.  79.  50.]\n",
      "  [ 77.  80.  51.]\n",
      "  [ 78.  81.  52.]]\n",
      "\n",
      " [[253. 241. 215.]\n",
      "  [255. 244. 218.]\n",
      "  [255. 246. 220.]\n",
      "  ...\n",
      "  [ 75.  78.  49.]\n",
      "  [ 76.  79.  52.]\n",
      "  [ 77.  80.  53.]]\n",
      "\n",
      " ...\n",
      "\n",
      " [[  0.   0.   0.]\n",
      "  [  0.   0.   0.]\n",
      "  [  0.   0.   0.]\n",
      "  ...\n",
      "  [  0.   0.   0.]\n",
      "  [  0.   0.   0.]\n",
      "  [  0.   0.   0.]]\n",
      "\n",
      " [[  0.   0.   0.]\n",
      "  [  0.   0.   0.]\n",
      "  [  0.   0.   0.]\n",
      "  ...\n",
      "  [  0.   0.   0.]\n",
      "  [  0.   0.   0.]\n",
      "  [  0.   0.   0.]]\n",
      "\n",
      " [[  0.   0.   0.]\n",
      "  [  0.   0.   0.]\n",
      "  [  0.   0.   0.]\n",
      "  ...\n",
      "  [  0.   0.   0.]\n",
      "  [  0.   0.   0.]\n",
      "  [  0.   0.   0.]]]\n",
      "(3, 640, 640)\n",
      "(1, 3, 640, 640)\n"
     ]
    }
   ],
   "source": [
    "from PIL import Image\n",
    "import numpy as np\n",
    "\n",
    "# Load the image and convert it to a numpy array\n",
    "image_path = \"000000000650.jpg\"\n",
    "image = Image.open(image_path)\n",
    "image_array = np.array(image)\n",
    "image_array = image_array.astype(np.float32)\n",
    "print(image_array.shape)\n",
    "image_array.resize((640, 640, 3))\n",
    "print(image_array)\n",
    "image_array = np.transpose(image_array, (2, 0, 1))\n",
    "print(image_array.shape)\n",
    "image_array = np.expand_dims(image_array, axis=0)\n",
    "print(image_array.shape)"
   ],
   "metadata": {
    "collapsed": false,
    "pycharm": {
     "name": "#%%\n"
    }
   }
  },
  {
   "cell_type": "code",
   "execution_count": 4,
   "outputs": [],
   "source": [
    "# Run the input data through the model\n",
    "input_name = session.get_inputs()[0].name\n",
    "output_name = session.get_outputs()[0].name\n",
    "result = session.run(None, {input_name: image_array})"
   ],
   "metadata": {
    "collapsed": false,
    "pycharm": {
     "name": "#%%\n"
    }
   }
  },
  {
   "cell_type": "code",
   "execution_count": 12,
   "outputs": [
    {
     "name": "stdout",
     "output_type": "stream",
     "text": [
      "[array([[[4.9832554e+00, 1.1378820e+01, 2.8395935e+01, ...,\n",
      "         5.0330273e+02, 5.4728076e+02, 5.8909479e+02],\n",
      "        [3.9741526e+00, 4.0922203e+00, 7.9543896e+00, ...,\n",
      "         5.8250330e+02, 5.7145154e+02, 5.4380139e+02],\n",
      "        [1.4032261e+01, 1.4491901e+01, 3.1305147e+01, ...,\n",
      "         2.7735815e+02, 1.8817267e+02, 1.0568396e+02],\n",
      "        ...,\n",
      "        [0.0000000e+00, 0.0000000e+00, 0.0000000e+00, ...,\n",
      "         1.3113022e-06, 9.2387199e-07, 2.8312206e-06],\n",
      "        [2.0861626e-07, 2.9802322e-08, 5.9604645e-08, ...,\n",
      "         1.1026859e-06, 1.0132790e-06, 1.3411045e-06],\n",
      "        [0.0000000e+00, 0.0000000e+00, 0.0000000e+00, ...,\n",
      "         1.5497208e-06, 1.4007092e-06, 1.9967556e-06]]], dtype=float32)]\n",
      "<class 'list'>\n",
      "4.9832554\n",
      "11.37882\n",
      "28.395935\n",
      "33.03505\n",
      "32.66423\n",
      "41.577564\n",
      "52.068768\n",
      "61.69626\n",
      "67.61752\n",
      "78.37096\n"
     ]
    }
   ],
   "source": [
    "print(result)\n",
    "print(type(result))\n",
    "print(result[0][0][0][0])\n",
    "print(result[0][0][0][1])\n",
    "print(result[0][0][0][2])\n",
    "print(result[0][0][0][3])\n",
    "print(result[0][0][0][4])\n",
    "print(result[0][0][0][5])\n",
    "print(result[0][0][0][6])\n",
    "print(result[0][0][0][7])\n",
    "print(result[0][0][0][8])\n",
    "print(result[0][0][0][9])"
   ],
   "metadata": {
    "collapsed": false,
    "pycharm": {
     "name": "#%%\n"
    }
   }
  },
  {
   "cell_type": "code",
   "execution_count": null,
   "outputs": [],
   "source": [],
   "metadata": {
    "collapsed": false,
    "pycharm": {
     "name": "#%%\n"
    }
   }
  }
 ],
 "metadata": {
  "kernelspec": {
   "display_name": "Python 3",
   "language": "python",
   "name": "python3"
  },
  "language_info": {
   "codemirror_mode": {
    "name": "ipython",
    "version": 2
   },
   "file_extension": ".py",
   "mimetype": "text/x-python",
   "name": "python",
   "nbconvert_exporter": "python",
   "pygments_lexer": "ipython2",
   "version": "2.7.6"
  }
 },
 "nbformat": 4,
 "nbformat_minor": 0
}