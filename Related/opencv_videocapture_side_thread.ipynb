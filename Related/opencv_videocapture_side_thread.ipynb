{
 "cells": [
  {
   "cell_type": "code",
   "execution_count": 1,
   "metadata": {
    "collapsed": true,
    "pycharm": {
     "name": "#%%\n"
    }
   },
   "outputs": [],
   "source": [
    "# import the necessary packages\n",
    "import datetime\n",
    "class FPS:\n",
    "\tdef __init__(self):\n",
    "\t\t# store the start time, end time, and total number of frames\n",
    "\t\t# that were examined between the start and end intervals\n",
    "\t\tself._start = None\n",
    "\t\tself._end = None\n",
    "\t\tself._numFrames = 0\n",
    "\tdef start(self):\n",
    "\t\t# start the timer\n",
    "\t\tself._start = datetime.datetime.now()\n",
    "\t\treturn self\n",
    "\tdef stop(self):\n",
    "\t\t# stop the timer\n",
    "\t\tself._end = datetime.datetime.now()\n",
    "\tdef update(self):\n",
    "\t\t# increment the total number of frames examined during the\n",
    "\t\t# start and end intervals\n",
    "\t\tself._numFrames += 1\n",
    "\tdef elapsed(self):\n",
    "\t\t# return the total number of seconds between the start and\n",
    "\t\t# end interval\n",
    "\t\treturn (self._end - self._start).total_seconds()\n",
    "\tdef fps(self):\n",
    "\t\t# compute the (approximate) frames per second\n",
    "\t\treturn self._numFrames / self.elapsed()"
   ]
  },
  {
   "cell_type": "code",
   "execution_count": 2,
   "outputs": [],
   "source": [
    "# import the necessary packages\n",
    "from threading import Thread\n",
    "import cv2\n",
    "class WebcamVideoStream:\n",
    "\tdef __init__(self, src=0):\n",
    "\t\t# initialize the video camera stream and read the first frame\n",
    "\t\t# from the stream\n",
    "\t\tself.stream = cv2.VideoCapture(src)\n",
    "\t\t(self.grabbed, self.frame) = self.stream.read()\n",
    "\t\t# initialize the variable used to indicate if the thread should\n",
    "\t\t# be stopped\n",
    "\t\tself.stopped = False"
   ],
   "metadata": {
    "collapsed": false,
    "pycharm": {
     "name": "#%%\n"
    }
   }
  },
  {
   "cell_type": "code",
   "execution_count": 3,
   "outputs": [],
   "source": [
    "\tdef start(self):\n",
    "\t\t# start the thread to read frames from the video stream\n",
    "\t\tThread(target=self.update, args=()).start()\n",
    "\t\treturn self\n",
    "\tdef update(self):\n",
    "\t\t# keep looping infinitely until the thread is stopped\n",
    "\t\twhile True:\n",
    "\t\t\t# if the thread indicator variable is set, stop the thread\n",
    "\t\t\tif self.stopped:\n",
    "\t\t\t\treturn\n",
    "\t\t\t# otherwise, read the next frame from the stream\n",
    "\t\t\t(self.grabbed, self.frame) = self.stream.read()\n",
    "\tdef read(self):\n",
    "\t\t# return the frame most recently read\n",
    "\t\treturn self.frame\n",
    "\tdef stop(self):\n",
    "\t\t# indicate that the thread should be stopped\n",
    "\t\tself.stopped = True"
   ],
   "metadata": {
    "collapsed": false,
    "pycharm": {
     "name": "#%%\n"
    }
   }
  },
  {
   "cell_type": "code",
   "execution_count": 4,
   "outputs": [
    {
     "name": "stderr",
     "output_type": "stream",
     "text": [
      "usage: ipykernel_launcher.py [-h] [-n NUM_FRAMES] [-d DISPLAY]\n",
      "ipykernel_launcher.py: error: unrecognized arguments: -f C:\\Users\\user\\AppData\\Roaming\\jupyter\\runtime\\kernel-bbe64ad3-cabf-42b7-abaf-9a154243863b.json\n"
     ]
    },
    {
     "ename": "SystemExit",
     "evalue": "2",
     "output_type": "error",
     "traceback": [
      "An exception has occurred, use %tb to see the full traceback.\n",
      "\u001B[1;31mSystemExit\u001B[0m\u001B[1;31m:\u001B[0m 2\n"
     ]
    },
    {
     "name": "stderr",
     "output_type": "stream",
     "text": [
      "c:\\users\\user\\anaconda3\\envs\\ml\\lib\\site-packages\\IPython\\core\\interactiveshell.py:3441: UserWarning: To exit: use 'exit', 'quit', or Ctrl-D.\n",
      "  warn(\"To exit: use 'exit', 'quit', or Ctrl-D.\", stacklevel=1)\n"
     ]
    }
   ],
   "source": [
    "# import the necessary packages\n",
    "from __future__ import print_function\n",
    "from imutils.video import WebcamVideoStream\n",
    "from imutils.video import FPS\n",
    "import argparse\n",
    "import imutils\n",
    "import cv2\n",
    "# construct the argument parse and parse the arguments\n",
    "ap = argparse.ArgumentParser()\n",
    "ap.add_argument(\"-n\", \"--num-frames\", type=int, default=100,\n",
    "\thelp=\"# of frames to loop over for FPS test\")\n",
    "ap.add_argument(\"-d\", \"--display\", type=int, default=-1,\n",
    "\thelp=\"Whether or not frames should be displayed\")\n",
    "args = vars(ap.parse_args())"
   ],
   "metadata": {
    "collapsed": false,
    "pycharm": {
     "name": "#%%\n"
    }
   }
  },
  {
   "cell_type": "code",
   "execution_count": 5,
   "outputs": [
    {
     "name": "stdout",
     "output_type": "stream",
     "text": [
      "[INFO] sampling frames from webcam...\n"
     ]
    },
    {
     "ename": "NameError",
     "evalue": "name 'args' is not defined",
     "output_type": "error",
     "traceback": [
      "\u001B[1;31m---------------------------------------------------------------------------\u001B[0m",
      "\u001B[1;31mNameError\u001B[0m                                 Traceback (most recent call last)",
      "Cell \u001B[1;32mIn[5], line 6\u001B[0m\n\u001B[0;32m      4\u001B[0m fps \u001B[38;5;241m=\u001B[39m FPS()\u001B[38;5;241m.\u001B[39mstart()\n\u001B[0;32m      5\u001B[0m \u001B[38;5;66;03m# loop over some frames\u001B[39;00m\n\u001B[1;32m----> 6\u001B[0m \u001B[38;5;28;01mwhile\u001B[39;00m fps\u001B[38;5;241m.\u001B[39m_numFrames \u001B[38;5;241m<\u001B[39m \u001B[43margs\u001B[49m[\u001B[38;5;124m\"\u001B[39m\u001B[38;5;124mnum_frames\u001B[39m\u001B[38;5;124m\"\u001B[39m]:\n\u001B[0;32m      7\u001B[0m \t\u001B[38;5;66;03m# grab the frame from the stream and resize it to have a maximum\u001B[39;00m\n\u001B[0;32m      8\u001B[0m \t\u001B[38;5;66;03m# width of 400 pixels\u001B[39;00m\n\u001B[0;32m      9\u001B[0m \t(grabbed, frame) \u001B[38;5;241m=\u001B[39m stream\u001B[38;5;241m.\u001B[39mread()\n\u001B[0;32m     10\u001B[0m \tframe \u001B[38;5;241m=\u001B[39m imutils\u001B[38;5;241m.\u001B[39mresize(frame, width\u001B[38;5;241m=\u001B[39m\u001B[38;5;241m400\u001B[39m)\n",
      "\u001B[1;31mNameError\u001B[0m: name 'args' is not defined"
     ]
    }
   ],
   "source": [
    "# grab a pointer to the video stream and initialize the FPS counter\n",
    "print(\"[INFO] sampling frames from webcam...\")\n",
    "stream = cv2.VideoCapture(0)\n",
    "fps = FPS().start()\n",
    "# loop over some frames\n",
    "while fps._numFrames < args[\"num_frames\"]:\n",
    "\t# grab the frame from the stream and resize it to have a maximum\n",
    "\t# width of 400 pixels\n",
    "\t(grabbed, frame) = stream.read()\n",
    "\tframe = imutils.resize(frame, width=400)\n",
    "\t# check to see if the frame should be displayed to our screen\n",
    "\tif args[\"display\"] > 0:\n",
    "\t\tcv2.imshow(\"Frame\", frame)\n",
    "\t\tkey = cv2.waitKey(1) & 0xFF\n",
    "\t# update the FPS counter\n",
    "\tfps.update()\n",
    "# stop the timer and display FPS information\n",
    "fps.stop()\n",
    "print(\"[INFO] elasped time: {:.2f}\".format(fps.elapsed()))\n",
    "print(\"[INFO] approx. FPS: {:.2f}\".format(fps.fps()))\n",
    "# do a bit of cleanup\n",
    "stream.release()\n",
    "cv2.destroyAllWindows()"
   ],
   "metadata": {
    "collapsed": false,
    "pycharm": {
     "name": "#%%\n"
    }
   }
  },
  {
   "cell_type": "code",
   "execution_count": 6,
   "outputs": [
    {
     "name": "stdout",
     "output_type": "stream",
     "text": [
      "[INFO] sampling THREADED frames from webcam...\n"
     ]
    },
    {
     "ename": "NameError",
     "evalue": "name 'args' is not defined",
     "output_type": "error",
     "traceback": [
      "\u001B[1;31m---------------------------------------------------------------------------\u001B[0m",
      "\u001B[1;31mNameError\u001B[0m                                 Traceback (most recent call last)",
      "Cell \u001B[1;32mIn[6], line 7\u001B[0m\n\u001B[0;32m      5\u001B[0m fps \u001B[38;5;241m=\u001B[39m FPS()\u001B[38;5;241m.\u001B[39mstart()\n\u001B[0;32m      6\u001B[0m \u001B[38;5;66;03m# loop over some frames...this time using the threaded stream\u001B[39;00m\n\u001B[1;32m----> 7\u001B[0m \u001B[38;5;28;01mwhile\u001B[39;00m fps\u001B[38;5;241m.\u001B[39m_numFrames \u001B[38;5;241m<\u001B[39m \u001B[43margs\u001B[49m[\u001B[38;5;124m\"\u001B[39m\u001B[38;5;124mnum_frames\u001B[39m\u001B[38;5;124m\"\u001B[39m]:\n\u001B[0;32m      8\u001B[0m \t\u001B[38;5;66;03m# grab the frame from the threaded video stream and resize it\u001B[39;00m\n\u001B[0;32m      9\u001B[0m \t\u001B[38;5;66;03m# to have a maximum width of 400 pixels\u001B[39;00m\n\u001B[0;32m     10\u001B[0m \tframe \u001B[38;5;241m=\u001B[39m vs\u001B[38;5;241m.\u001B[39mread()\n\u001B[0;32m     11\u001B[0m \tframe \u001B[38;5;241m=\u001B[39m imutils\u001B[38;5;241m.\u001B[39mresize(frame, width\u001B[38;5;241m=\u001B[39m\u001B[38;5;241m400\u001B[39m)\n",
      "\u001B[1;31mNameError\u001B[0m: name 'args' is not defined"
     ]
    }
   ],
   "source": [
    "# created a *threaded* video stream, allow the camera sensor to warmup,\n",
    "# and start the FPS counter\n",
    "print(\"[INFO] sampling THREADED frames from webcam...\")\n",
    "vs = WebcamVideoStream(src=0).start()\n",
    "fps = FPS().start()\n",
    "# loop over some frames...this time using the threaded stream\n",
    "while fps._numFrames < args[\"num_frames\"]:\n",
    "\t# grab the frame from the threaded video stream and resize it\n",
    "\t# to have a maximum width of 400 pixels\n",
    "\tframe = vs.read()\n",
    "\tframe = imutils.resize(frame, width=400)\n",
    "\t# check to see if the frame should be displayed to our screen\n",
    "\tif args[\"display\"] > 0:\n",
    "\t\tcv2.imshow(\"Frame\", frame)\n",
    "\t\tkey = cv2.waitKey(1) & 0xFF\n",
    "\t# update the FPS counter\n",
    "\tfps.update()\n",
    "# stop the timer and display FPS information\n",
    "fps.stop()\n",
    "print(\"[INFO] elasped time: {:.2f}\".format(fps.elapsed()))\n",
    "print(\"[INFO] approx. FPS: {:.2f}\".format(fps.fps()))\n",
    "# do a bit of cleanup\n",
    "cv2.destroyAllWindows()\n",
    "vs.stop()"
   ],
   "metadata": {
    "collapsed": false,
    "pycharm": {
     "name": "#%%\n"
    }
   }
  },
  {
   "cell_type": "code",
   "execution_count": null,
   "outputs": [],
   "source": [],
   "metadata": {
    "collapsed": false,
    "pycharm": {
     "name": "#%%\n"
    }
   }
  }
 ],
 "metadata": {
  "kernelspec": {
   "display_name": "Python 3",
   "language": "python",
   "name": "python3"
  },
  "language_info": {
   "codemirror_mode": {
    "name": "ipython",
    "version": 2
   },
   "file_extension": ".py",
   "mimetype": "text/x-python",
   "name": "python",
   "nbconvert_exporter": "python",
   "pygments_lexer": "ipython2",
   "version": "2.7.6"
  }
 },
 "nbformat": 4,
 "nbformat_minor": 0
}